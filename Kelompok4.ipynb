{
  "nbformat": 4,
  "nbformat_minor": 0,
  "metadata": {
    "colab": {
      "provenance": []
    },
    "kernelspec": {
      "name": "python3",
      "display_name": "Python 3"
    },
    "language_info": {
      "name": "python"
    }
  },
  "cells": [
    {
      "cell_type": "code",
      "source": [
        "def TambahBarang(daftar_belanjaan, barang, harga, kuantitas, stok):\n",
        "    if stok.get(barang, 0) >= kuantitas:\n",
        "        daftar_belanjaan.append({\"barang\": barang, \"harga\": harga, \"kuantitas\": kuantitas})\n",
        "        print(f\"{kuantitas} {barang} telah ditambahkan ke dalam daftar belanjaan.\")\n",
        "        stok[barang] -= kuantitas  # Update stok barang setelah pembelian\n",
        "    else:\n",
        "        print(f\"Stok {barang} tidak mencukupi untuk menambahkan ke dalam daftar belanjaan.\")\n",
        "\n",
        "def HitungTotal(daftar_belanjaan):\n",
        "    total_jumlah = sum(item[\"kuantitas\"] for item in daftar_belanjaan)\n",
        "    total_harga = sum(item[\"harga\"] * item[\"kuantitas\"] for item in daftar_belanjaan)\n",
        "    return total_jumlah, total_harga\n",
        "\n",
        "daftar_belanjaan = []\n",
        "stok_barang = {\"Telur\": 10, \"Susu\": 20, \"Roti\": 15}\n",
        "\n",
        "TambahBarang(daftar_belanjaan, \"Telur\", 2.5, 1, stok_barang)\n",
        "TambahBarang(daftar_belanjaan, \"Susu\", 3, 2, stok_barang)\n",
        "TambahBarang(daftar_belanjaan, \"Roti\", 1.5, 3, stok_barang)\n",
        "\n",
        "print(\"Daftar Belanjaan:\")\n",
        "print(\"=====================================\")\n",
        "print(\"| Barang | Harga | Kuantitas | Total |\")\n",
        "print(\"=====================================\")\n",
        "for item in daftar_belanjaan:\n",
        "    total = item[\"harga\"] * item[\"kuantitas\"]\n",
        "    print(f\"| {item['barang']:^7} | Rp.{item['harga']:^5.2f} | {item['kuantitas']:^9} | Rp.{total:^5.2f} |\")\n",
        "print(\"=====================================\")\n",
        "\n",
        "total_jumlah, total_harga = HitungTotal(daftar_belanjaan)\n",
        "print(f\"Total Jumlah Barang: {total_jumlah}\")\n",
        "print(f\"Total Harga: Rp.{total_harga}\")\n",
        "\n",
        "print(\"\\nStok Barang:\")\n",
        "print(\"==================\")\n",
        "print(\"| Barang |  Stok  |\")\n",
        "print(\"==================\")\n",
        "for barang, jumlah in stok_barang.items():\n",
        "    print(f\"| {barang:^7} | {jumlah:^6} |\")\n",
        "print(\"==================\")\n",
        "\n",
        "print(\"\\nStok Barang Setelah Pembelian:\")\n",
        "print(\"=============================\")\n",
        "print(\"| Barang |   Stok Setelah   |\")\n",
        "print(\"|        |    Pembelian     |\")\n",
        "print(\"=============================\")\n",
        "for barang, jumlah in stok_barang.items():\n",
        "    stok_setelah_pembelian = jumlah - sum(item[\"kuantitas\"] for item in daftar_belanjaan if item[\"barang\"] == barang)\n",
        "    print(f\"| {barang:^7} | {stok_setelah_pembelian:^16} |\")\n",
        "print(\"=============================\")"
      ],
      "metadata": {
        "colab": {
          "base_uri": "https://localhost:8080/"
        },
        "id": "65FO-1LJ2N4H",
        "outputId": "c4b1f494-ce9a-4875-f3b1-a16b7c736192"
      },
      "execution_count": 9,
      "outputs": [
        {
          "output_type": "stream",
          "name": "stdout",
          "text": [
            "1 Telur telah ditambahkan ke dalam daftar belanjaan.\n",
            "2 Susu telah ditambahkan ke dalam daftar belanjaan.\n",
            "3 Roti telah ditambahkan ke dalam daftar belanjaan.\n",
            "Daftar Belanjaan:\n",
            "=====================================\n",
            "| Barang | Harga | Kuantitas | Total |\n",
            "=====================================\n",
            "|  Telur  | Rp.2.50  |     1     | Rp.2.50  |\n",
            "|  Susu   | Rp.3.00  |     2     | Rp.6.00  |\n",
            "|  Roti   | Rp.1.50  |     3     | Rp.4.50  |\n",
            "=====================================\n",
            "Total Jumlah Barang: 6\n",
            "Total Harga: Rp.13.0\n",
            "\n",
            "Stok Barang:\n",
            "==================\n",
            "| Barang |  Stok  |\n",
            "==================\n",
            "|  Telur  |   9    |\n",
            "|  Susu   |   18   |\n",
            "|  Roti   |   12   |\n",
            "==================\n",
            "\n",
            "Stok Barang Setelah Pembelian:\n",
            "=============================\n",
            "| Barang |   Stok Setelah   |\n",
            "|        |    Pembelian     |\n",
            "=============================\n",
            "|  Telur  |        8         |\n",
            "|  Susu   |        16        |\n",
            "|  Roti   |        9         |\n",
            "=============================\n"
          ]
        }
      ]
    }
  ]
}